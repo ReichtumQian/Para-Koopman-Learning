{
 "cells": [
  {
   "cell_type": "code",
   "execution_count": 1,
   "metadata": {},
   "outputs": [
    {
     "name": "stderr",
     "output_type": "stream",
     "text": [
      "  7%|▋         | 72/1000 [01:45<22:40,  1.47s/it]\n",
      "  0%|          | 0/99 [01:45<?, ?it/s]\n"
     ]
    },
    {
     "ename": "KeyboardInterrupt",
     "evalue": "",
     "output_type": "error",
     "traceback": [
      "\u001b[0;31m---------------------------------------------------------------------------\u001b[0m",
      "\u001b[0;31mKeyboardInterrupt\u001b[0m                         Traceback (most recent call last)",
      "Cell \u001b[0;32mIn[1], line 38\u001b[0m\n\u001b[1;32m     34\u001b[0m   \u001b[38;5;28;01mreturn\u001b[39;00m torch\u001b[38;5;241m.\u001b[39mcat((one, mass, momentum), dim\u001b[38;5;241m=\u001b[39m\u001b[38;5;241m1\u001b[39m)\n\u001b[1;32m     37\u001b[0m \u001b[38;5;66;03m# set up the solver\u001b[39;00m\n\u001b[0;32m---> 38\u001b[0m solver\u001b[38;5;241m.\u001b[39msetup(nontrain_func, sample_func)\n\u001b[1;32m     39\u001b[0m K \u001b[38;5;241m=\u001b[39m solver\u001b[38;5;241m.\u001b[39msolve()\n",
      "File \u001b[0;32m~/code/deep_learning/Para-Koopman-Learning/PKoopmanDL/SolverWrapper.py:30\u001b[0m, in \u001b[0;36mSolverWrapper.setup\u001b[0;34m(self, nontrain_func, x_sample_func, param_sample_func)\u001b[0m\n\u001b[1;32m     28\u001b[0m \u001b[38;5;28mself\u001b[39m\u001b[38;5;241m.\u001b[39m_init_ode()\n\u001b[1;32m     29\u001b[0m \u001b[38;5;28mself\u001b[39m\u001b[38;5;241m.\u001b[39m_init_flowmap()\n\u001b[0;32m---> 30\u001b[0m \u001b[38;5;28mself\u001b[39m\u001b[38;5;241m.\u001b[39m_init_dataset(x_sample_func, param_sample_func)\n\u001b[1;32m     31\u001b[0m \u001b[38;5;28mself\u001b[39m\u001b[38;5;241m.\u001b[39m_init_dictionary(nontrain_func)\n\u001b[1;32m     32\u001b[0m \u001b[38;5;28mself\u001b[39m\u001b[38;5;241m.\u001b[39m_init_solver()\n",
      "File \u001b[0;32m~/code/deep_learning/Para-Koopman-Learning/PKoopmanDL/SolverWrapper.py:188\u001b[0m, in \u001b[0;36mParamKoopmanDLSolverWrapper._init_dataset\u001b[0;34m(self, x_sample_func, param_sample_func)\u001b[0m\n\u001b[1;32m    185\u001b[0m \u001b[38;5;28;01mdef\u001b[39;00m \u001b[38;5;21m_init_dataset\u001b[39m(\u001b[38;5;28mself\u001b[39m, x_sample_func, param_sample_func):\n\u001b[1;32m    186\u001b[0m   \u001b[38;5;28mself\u001b[39m\u001b[38;5;241m.\u001b[39mdataset \u001b[38;5;241m=\u001b[39m ParamODEDataSet(\u001b[38;5;28mself\u001b[39m\u001b[38;5;241m.\u001b[39mode, \u001b[38;5;28mself\u001b[39m\u001b[38;5;241m.\u001b[39mflowmap, x_sample_func,\n\u001b[1;32m    187\u001b[0m                                  param_sample_func)\n\u001b[0;32m--> 188\u001b[0m   \u001b[38;5;28mself\u001b[39m\u001b[38;5;241m.\u001b[39mdataset\u001b[38;5;241m.\u001b[39mgenerate_data(\u001b[38;5;28mself\u001b[39m\u001b[38;5;241m.\u001b[39mn_traj, \u001b[38;5;28mself\u001b[39m\u001b[38;5;241m.\u001b[39mn_traj_per_param,\n\u001b[1;32m    189\u001b[0m                              \u001b[38;5;28mself\u001b[39m\u001b[38;5;241m.\u001b[39mtraj_len, \u001b[38;5;28mself\u001b[39m\u001b[38;5;241m.\u001b[39mx_min, \u001b[38;5;28mself\u001b[39m\u001b[38;5;241m.\u001b[39mx_max,\n\u001b[1;32m    190\u001b[0m                              \u001b[38;5;28mself\u001b[39m\u001b[38;5;241m.\u001b[39mparam_min, \u001b[38;5;28mself\u001b[39m\u001b[38;5;241m.\u001b[39mparam_max, \u001b[38;5;28mself\u001b[39m\u001b[38;5;241m.\u001b[39mseed_x,\n\u001b[1;32m    191\u001b[0m                              \u001b[38;5;28mself\u001b[39m\u001b[38;5;241m.\u001b[39mseed_param, \u001b[38;5;28mself\u001b[39m\u001b[38;5;241m.\u001b[39mparam_time_dependent)\n\u001b[1;32m    192\u001b[0m   \u001b[38;5;28mself\u001b[39m\u001b[38;5;241m.\u001b[39mtrain_dataset, \u001b[38;5;28mself\u001b[39m\u001b[38;5;241m.\u001b[39mval_dataset \u001b[38;5;241m=\u001b[39m torch\u001b[38;5;241m.\u001b[39mutils\u001b[38;5;241m.\u001b[39mdata\u001b[38;5;241m.\u001b[39mrandom_split(\n\u001b[1;32m    193\u001b[0m       \u001b[38;5;28mself\u001b[39m\u001b[38;5;241m.\u001b[39mdataset, [\n\u001b[1;32m    194\u001b[0m           \u001b[38;5;28mint\u001b[39m(\u001b[38;5;28mself\u001b[39m\u001b[38;5;241m.\u001b[39mtrain_ratio \u001b[38;5;241m*\u001b[39m \u001b[38;5;28mlen\u001b[39m(\u001b[38;5;28mself\u001b[39m\u001b[38;5;241m.\u001b[39mdataset)),\n\u001b[1;32m    195\u001b[0m           \u001b[38;5;28mlen\u001b[39m(\u001b[38;5;28mself\u001b[39m\u001b[38;5;241m.\u001b[39mdataset) \u001b[38;5;241m-\u001b[39m \u001b[38;5;28mint\u001b[39m(\u001b[38;5;28mself\u001b[39m\u001b[38;5;241m.\u001b[39mtrain_ratio \u001b[38;5;241m*\u001b[39m \u001b[38;5;28mlen\u001b[39m(\u001b[38;5;28mself\u001b[39m\u001b[38;5;241m.\u001b[39mdataset))\n\u001b[1;32m    196\u001b[0m       ])\n",
      "File \u001b[0;32m~/code/deep_learning/Para-Koopman-Learning/PKoopmanDL/ODEDataSet.py:113\u001b[0m, in \u001b[0;36mParamODEDataSet.generate_data\u001b[0;34m(self, n_traj, n_traj_per_param, traj_len, x_min, x_max, param_min, param_max, seed_x, seed_param, param_time_dependent)\u001b[0m\n\u001b[1;32m    111\u001b[0m info_message(\u001b[38;5;124m\"\u001b[39m\u001b[38;5;124m[ParamODEDataSet] Start generating trajectories...\u001b[39m\u001b[38;5;124m\"\u001b[39m)\n\u001b[1;32m    112\u001b[0m \u001b[38;5;28;01mfor\u001b[39;00m t \u001b[38;5;129;01min\u001b[39;00m tqdm(\u001b[38;5;28mrange\u001b[39m(traj_len \u001b[38;5;241m-\u001b[39m \u001b[38;5;241m1\u001b[39m)):\n\u001b[0;32m--> 113\u001b[0m   data_x\u001b[38;5;241m.\u001b[39mappend(\u001b[38;5;28mself\u001b[39m\u001b[38;5;241m.\u001b[39m_flowmap\u001b[38;5;241m.\u001b[39mstep(\u001b[38;5;28mself\u001b[39m\u001b[38;5;241m.\u001b[39m_ode, data_x[t], data_param[t]))\n\u001b[1;32m    114\u001b[0m   \u001b[38;5;28;01mif\u001b[39;00m param_time_dependent:\n\u001b[1;32m    115\u001b[0m     param \u001b[38;5;241m=\u001b[39m generate_param()\n",
      "File \u001b[0;32m~/code/deep_learning/Para-Koopman-Learning/PKoopmanDL/FlowMap.py:123\u001b[0m, in \u001b[0;36mScipyFlowMap.step\u001b[0;34m(self, ode, x, u)\u001b[0m\n\u001b[1;32m    120\u001b[0m y_list \u001b[38;5;241m=\u001b[39m []\n\u001b[1;32m    121\u001b[0m \u001b[38;5;28;01mfor\u001b[39;00m i \u001b[38;5;129;01min\u001b[39;00m tqdm(\u001b[38;5;28mrange\u001b[39m(x\u001b[38;5;241m.\u001b[39msize(\u001b[38;5;241m0\u001b[39m))):\n\u001b[1;32m    122\u001b[0m   y_list\u001b[38;5;241m.\u001b[39mappend(\n\u001b[0;32m--> 123\u001b[0m       scipy\u001b[38;5;241m.\u001b[39mintegrate\u001b[38;5;241m.\u001b[39msolve_ivp(rhs, (\u001b[38;5;241m0\u001b[39m, \u001b[38;5;28mself\u001b[39m\u001b[38;5;241m.\u001b[39m_t_step),\n\u001b[1;32m    124\u001b[0m                                 x[i, :]\u001b[38;5;241m.\u001b[39mdetach()\u001b[38;5;241m.\u001b[39mnumpy(),\n\u001b[1;32m    125\u001b[0m                                 args\u001b[38;5;241m=\u001b[39m(param[i, :], ),\n\u001b[1;32m    126\u001b[0m                                 method\u001b[38;5;241m=\u001b[39m\u001b[38;5;28mself\u001b[39m\u001b[38;5;241m.\u001b[39m_solver_type))\n\u001b[1;32m    127\u001b[0m y \u001b[38;5;241m=\u001b[39m np\u001b[38;5;241m.\u001b[39marray(y_list)\n\u001b[1;32m    128\u001b[0m debug_message(\u001b[38;5;124mf\u001b[39m\u001b[38;5;124m\"\u001b[39m\u001b[38;5;124m[\u001b[39m\u001b[38;5;132;01m{\u001b[39;00m\u001b[38;5;28mself\u001b[39m\u001b[38;5;241m.\u001b[39m_solver_type\u001b[38;5;132;01m}\u001b[39;00m\u001b[38;5;124m] Finish stepping...\u001b[39m\u001b[38;5;124m\"\u001b[39m)\n",
      "File \u001b[0;32m~/anaconda3/envs/koopman/lib/python3.12/site-packages/scipy/integrate/_ivp/ivp.py:655\u001b[0m, in \u001b[0;36msolve_ivp\u001b[0;34m(fun, t_span, y0, method, t_eval, dense_output, events, vectorized, args, **options)\u001b[0m\n\u001b[1;32m    653\u001b[0m status \u001b[38;5;241m=\u001b[39m \u001b[38;5;28;01mNone\u001b[39;00m\n\u001b[1;32m    654\u001b[0m \u001b[38;5;28;01mwhile\u001b[39;00m status \u001b[38;5;129;01mis\u001b[39;00m \u001b[38;5;28;01mNone\u001b[39;00m:\n\u001b[0;32m--> 655\u001b[0m     message \u001b[38;5;241m=\u001b[39m solver\u001b[38;5;241m.\u001b[39mstep()\n\u001b[1;32m    657\u001b[0m     \u001b[38;5;28;01mif\u001b[39;00m solver\u001b[38;5;241m.\u001b[39mstatus \u001b[38;5;241m==\u001b[39m \u001b[38;5;124m'\u001b[39m\u001b[38;5;124mfinished\u001b[39m\u001b[38;5;124m'\u001b[39m:\n\u001b[1;32m    658\u001b[0m         status \u001b[38;5;241m=\u001b[39m \u001b[38;5;241m0\u001b[39m\n",
      "File \u001b[0;32m~/anaconda3/envs/koopman/lib/python3.12/site-packages/scipy/integrate/_ivp/base.py:197\u001b[0m, in \u001b[0;36mOdeSolver.step\u001b[0;34m(self)\u001b[0m\n\u001b[1;32m    195\u001b[0m \u001b[38;5;28;01melse\u001b[39;00m:\n\u001b[1;32m    196\u001b[0m     t \u001b[38;5;241m=\u001b[39m \u001b[38;5;28mself\u001b[39m\u001b[38;5;241m.\u001b[39mt\n\u001b[0;32m--> 197\u001b[0m     success, message \u001b[38;5;241m=\u001b[39m \u001b[38;5;28mself\u001b[39m\u001b[38;5;241m.\u001b[39m_step_impl()\n\u001b[1;32m    199\u001b[0m     \u001b[38;5;28;01mif\u001b[39;00m \u001b[38;5;129;01mnot\u001b[39;00m success:\n\u001b[1;32m    200\u001b[0m         \u001b[38;5;28mself\u001b[39m\u001b[38;5;241m.\u001b[39mstatus \u001b[38;5;241m=\u001b[39m \u001b[38;5;124m'\u001b[39m\u001b[38;5;124mfailed\u001b[39m\u001b[38;5;124m'\u001b[39m\n",
      "File \u001b[0;32m~/anaconda3/envs/koopman/lib/python3.12/site-packages/scipy/integrate/_ivp/rk.py:147\u001b[0m, in \u001b[0;36mRungeKutta._step_impl\u001b[0;34m(self)\u001b[0m\n\u001b[1;32m    144\u001b[0m y_new, f_new \u001b[38;5;241m=\u001b[39m rk_step(\u001b[38;5;28mself\u001b[39m\u001b[38;5;241m.\u001b[39mfun, t, y, \u001b[38;5;28mself\u001b[39m\u001b[38;5;241m.\u001b[39mf, h, \u001b[38;5;28mself\u001b[39m\u001b[38;5;241m.\u001b[39mA,\n\u001b[1;32m    145\u001b[0m                        \u001b[38;5;28mself\u001b[39m\u001b[38;5;241m.\u001b[39mB, \u001b[38;5;28mself\u001b[39m\u001b[38;5;241m.\u001b[39mC, \u001b[38;5;28mself\u001b[39m\u001b[38;5;241m.\u001b[39mK)\n\u001b[1;32m    146\u001b[0m scale \u001b[38;5;241m=\u001b[39m atol \u001b[38;5;241m+\u001b[39m np\u001b[38;5;241m.\u001b[39mmaximum(np\u001b[38;5;241m.\u001b[39mabs(y), np\u001b[38;5;241m.\u001b[39mabs(y_new)) \u001b[38;5;241m*\u001b[39m rtol\n\u001b[0;32m--> 147\u001b[0m error_norm \u001b[38;5;241m=\u001b[39m \u001b[38;5;28mself\u001b[39m\u001b[38;5;241m.\u001b[39m_estimate_error_norm(\u001b[38;5;28mself\u001b[39m\u001b[38;5;241m.\u001b[39mK, h, scale)\n\u001b[1;32m    149\u001b[0m \u001b[38;5;28;01mif\u001b[39;00m error_norm \u001b[38;5;241m<\u001b[39m \u001b[38;5;241m1\u001b[39m:\n\u001b[1;32m    150\u001b[0m     \u001b[38;5;28;01mif\u001b[39;00m error_norm \u001b[38;5;241m==\u001b[39m \u001b[38;5;241m0\u001b[39m:\n",
      "File \u001b[0;32m~/anaconda3/envs/koopman/lib/python3.12/site-packages/scipy/integrate/_ivp/rk.py:109\u001b[0m, in \u001b[0;36mRungeKutta._estimate_error_norm\u001b[0;34m(self, K, h, scale)\u001b[0m\n\u001b[1;32m    108\u001b[0m \u001b[38;5;28;01mdef\u001b[39;00m \u001b[38;5;21m_estimate_error_norm\u001b[39m(\u001b[38;5;28mself\u001b[39m, K, h, scale):\n\u001b[0;32m--> 109\u001b[0m     \u001b[38;5;28;01mreturn\u001b[39;00m norm(\u001b[38;5;28mself\u001b[39m\u001b[38;5;241m.\u001b[39m_estimate_error(K, h) \u001b[38;5;241m/\u001b[39m scale)\n",
      "File \u001b[0;32m~/anaconda3/envs/koopman/lib/python3.12/site-packages/scipy/integrate/_ivp/common.py:65\u001b[0m, in \u001b[0;36mnorm\u001b[0;34m(x)\u001b[0m\n\u001b[1;32m     63\u001b[0m \u001b[38;5;28;01mdef\u001b[39;00m \u001b[38;5;21mnorm\u001b[39m(x):\n\u001b[1;32m     64\u001b[0m \u001b[38;5;250m    \u001b[39m\u001b[38;5;124;03m\"\"\"Compute RMS norm.\"\"\"\u001b[39;00m\n\u001b[0;32m---> 65\u001b[0m     \u001b[38;5;28;01mreturn\u001b[39;00m np\u001b[38;5;241m.\u001b[39mlinalg\u001b[38;5;241m.\u001b[39mnorm(x) \u001b[38;5;241m/\u001b[39m x\u001b[38;5;241m.\u001b[39msize \u001b[38;5;241m*\u001b[39m\u001b[38;5;241m*\u001b[39m \u001b[38;5;241m0.5\u001b[39m\n",
      "File \u001b[0;32m~/anaconda3/envs/koopman/lib/python3.12/site-packages/numpy/linalg/linalg.py:2552\u001b[0m, in \u001b[0;36mnorm\u001b[0;34m(x, ord, axis, keepdims)\u001b[0m\n\u001b[1;32m   2550\u001b[0m     sqnorm \u001b[38;5;241m=\u001b[39m x_real\u001b[38;5;241m.\u001b[39mdot(x_real) \u001b[38;5;241m+\u001b[39m x_imag\u001b[38;5;241m.\u001b[39mdot(x_imag)\n\u001b[1;32m   2551\u001b[0m \u001b[38;5;28;01melse\u001b[39;00m:\n\u001b[0;32m-> 2552\u001b[0m     sqnorm \u001b[38;5;241m=\u001b[39m x\u001b[38;5;241m.\u001b[39mdot(x)\n\u001b[1;32m   2553\u001b[0m ret \u001b[38;5;241m=\u001b[39m sqrt(sqnorm)\n\u001b[1;32m   2554\u001b[0m \u001b[38;5;28;01mif\u001b[39;00m keepdims:\n",
      "\u001b[0;31mKeyboardInterrupt\u001b[0m: "
     ]
    }
   ],
   "source": [
    "import PKoopmanDL as pkdl\n",
    "import numpy as np\n",
    "import matplotlib.pyplot as plt\n",
    "import torch\n",
    "\n",
    "# read the config file\n",
    "config_file = \"kdv.json\"\n",
    "solver = pkdl.ParamKoopmanDLSolverWrapper(config_file)\n",
    "\n",
    "# set up the grid\n",
    "Nx = 128\n",
    "x_max = torch.pi\n",
    "x_min = -torch.pi\n",
    "x_step = (x_max - x_min) / (Nx - 1)\n",
    "x_grid = torch.linspace(x_min, x_max, Nx).unsqueeze(0)\n",
    "\n",
    "def sample_func(row_size, col_size):\n",
    "  assert (col_size == Nx)\n",
    "  x = x_grid.expand(row_size, Nx)\n",
    "  # torch.manual_seed(0)\n",
    "  uniform = torch.tensor([1.0, 1.0, 1.0])\n",
    "  b = torch.distributions.Dirichlet(uniform).sample((row_size,))\n",
    "  b1 = b[:, 0].view(-1, 1)\n",
    "  b2 = b[:, 1].view(-1, 1)\n",
    "  b3 = b[:, 2].view(-1, 1)\n",
    "  eta = b1 * torch.exp(-(x - torch.pi / 2)**2) - b2 * torch.sin(\n",
    "      x / 2)**2 + b3 * torch.exp(-(x + torch.pi / 2)**2)\n",
    "  return eta\n",
    "\n",
    "def nontrain_func(x):\n",
    "  one = torch.ones((x.shape[0], 1))\n",
    "  mass = torch.sum(x, dim=1, keepdim=True) * x_step\n",
    "  momentum = torch.sum(x **2, dim=1, keepdim=True) * x_step\n",
    "  return torch.cat((one, mass, momentum), dim=1)\n",
    "  \n",
    "\n",
    "# set up the solver\n",
    "solver.setup(nontrain_func, sample_func)\n",
    "K = solver.solve()"
   ]
  }
 ],
 "metadata": {
  "kernelspec": {
   "display_name": "koopman",
   "language": "python",
   "name": "python3"
  },
  "language_info": {
   "codemirror_mode": {
    "name": "ipython",
    "version": 3
   },
   "file_extension": ".py",
   "mimetype": "text/x-python",
   "name": "python",
   "nbconvert_exporter": "python",
   "pygments_lexer": "ipython3",
   "version": "3.12.7"
  }
 },
 "nbformat": 4,
 "nbformat_minor": 2
}
