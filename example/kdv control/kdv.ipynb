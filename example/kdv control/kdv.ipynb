{
 "cells": [
  {
   "cell_type": "code",
   "execution_count": 1,
   "metadata": {},
   "outputs": [
    {
     "name": "stderr",
     "output_type": "stream",
     "text": [
      "2024-11-16 18:46:56,394 PKoopmanDL: [INFO] CUDA is available. GPU is being used.\n",
      "2024-11-16 18:46:56,623 PKoopmanDL: [INFO] [ParamKoopmanDLSolver] Solving...\n",
      "Training: 100%|██████████| 2000/2000 [00:36<00:00, 54.17it/s, train_loss=7.06e-03, val_loss=7.18e-03]\n"
     ]
    }
   ],
   "source": [
    "import PKoopmanDL as pkdl\n",
    "import numpy as np\n",
    "import matplotlib.pyplot as plt\n",
    "import torch\n",
    "\n",
    "# read the config file\n",
    "config_file = \"kdv.json\"\n",
    "solver = pkdl.ParamKoopmanDLSolverWrapper(config_file)\n",
    "\n",
    "# set up the grid\n",
    "Nx = 128\n",
    "x_max = torch.pi\n",
    "x_min = -torch.pi\n",
    "x_step = (x_max - x_min) / (Nx - 1)\n",
    "x_grid = torch.linspace(x_min, x_max, Nx).unsqueeze(0)\n",
    "\n",
    "def sample_func(row_size, col_size):\n",
    "  assert (col_size == Nx)\n",
    "  x = x_grid.expand(row_size, Nx)\n",
    "  # torch.manual_seed(0)\n",
    "  uniform = torch.tensor([1.0, 1.0, 1.0])\n",
    "  b = torch.distributions.Dirichlet(uniform).sample((row_size,))\n",
    "  b1 = b[:, 0].view(-1, 1)\n",
    "  b2 = b[:, 1].view(-1, 1)\n",
    "  b3 = b[:, 2].view(-1, 1)\n",
    "  eta = b1 * torch.exp(-(x - torch.pi / 2)**2) - b2 * torch.sin(\n",
    "      x / 2)**2 + b3 * torch.exp(-(x + torch.pi / 2)**2)\n",
    "  return eta\n",
    "\n",
    "def mass_func(x):\n",
    "  mass = torch.sum(x, dim=1, keepdim=True) * x_step\n",
    "  return mass\n",
    "  \n",
    "def momentum_func(x):\n",
    "  momentum = torch.sum(x **2, dim=1, keepdim=True) * x_step\n",
    "  return momentum\n",
    "  \n",
    "\n",
    "def nontrain_func(x):\n",
    "  one = torch.ones((x.shape[0], 1))\n",
    "  mass = mass_func(x)\n",
    "  momentum = momentum_func(x)\n",
    "  return torch.cat((one, mass, momentum), dim=1)\n",
    "  \n",
    "\n",
    "# set up the solver\n",
    "solver.load_dataset_setup(\"data/kdv_dataset.pt\", nontrain_func, sample_func)\n",
    "K = solver.solve()\n",
    "koopman_dynamics = pkdl.DiscreteDynamics(K, solver.dynamics.dim, solver.dynamics.param_dim)"
   ]
  },
  {
   "cell_type": "markdown",
   "metadata": {},
   "source": [
    "## Prediction"
   ]
  },
  {
   "cell_type": "code",
   "execution_count": null,
   "metadata": {},
   "outputs": [],
   "source": [
    "\n",
    "# predict\n",
    "param = solver.train_dataset.dataset.data_param[0].unsqueeze(0)\n",
    "dataset_predict = pkdl.DynamicsDataSet(solver.dynamics)\n",
    "dataset_predict.generate_data(1, solver.traj_len, solver.x_min, solver.x_max, param)\n",
    "x0 = torch.unsqueeze(dataset_predict.data_x[0], dim=0)\n",
    "p = koopman_dynamics.traj(solver.dictionary(x0), param, solver.traj_len)\n",
    "x_est_traj = p[0, :, :].detach().numpy()\n",
    "\n",
    "fig, (ax1, ax2) = plt.subplots(1, 2, sharey=False, figsize=(12,5))  \n",
    "t_grid = np.arange(0, solver.traj_len)\n",
    "x_traj = solver.dynamics.traj(x0, param, solver.traj_len)[0, :, :]\n",
    "mass_traj = torch.sum(x_traj, dim=1, keepdim=True) * x_step\n",
    "mass_traj = mass_traj.detach().numpy()\n",
    "momentum_traj = torch.sum(x_traj **2, dim=1, keepdim=True) * x_step\n",
    "momentum_traj = momentum_traj.detach().numpy()\n",
    "\n",
    "ax1.plot(t_grid, mass_traj[:,0], 'k-', label='Exact', markevery=2)\n",
    "ax1.plot(t_grid, x_est_traj[:,1], 'gs', label='ParamKoopman', markevery=2)\n",
    "\n",
    "ax2.plot(t_grid, momentum_traj[:,0], 'k-', label='Exact', markevery=2)\n",
    "ax2.plot(t_grid, x_est_traj[:,2], 'gs', label='ParamKoopman', markevery=2)\n",
    "\n",
    "ax1.set_xlabel(r\"$n$\")\n",
    "ax1.set_ylabel(r\"$x_{1}(n)$\")\n",
    "ax1.legend(loc='best',prop={'size':14})\n",
    "\n",
    "ax2.set_xlabel(r\"$n$\")\n",
    "ax2.set_ylabel(r\"$x_{2}(n)$\")\n",
    "ax2.legend(loc='best',prop={'size':14})"
   ]
  },
  {
   "cell_type": "markdown",
   "metadata": {},
   "source": [
    "## Solve the Tracking Problem"
   ]
  },
  {
   "cell_type": "code",
   "execution_count": 3,
   "metadata": {},
   "outputs": [
    {
     "name": "stderr",
     "output_type": "stream",
     "text": [
      "2024-11-16 18:48:28,665 PKoopmanDL: [INFO] [KoopmanMPCSolver] Solving the optimal control problem...\n",
      "Solving:  86%|████████▌ | 6/7 [00:32<00:05,  5.39s/it, loss=7.60e+00]\n"
     ]
    }
   ],
   "source": [
    "traj_len = solver.traj_len\n",
    "t_step = solver.t_step\n",
    "target_dim = 2\n",
    "time_horizon = 3\n",
    "lambda_param = 0.0\n",
    "\n",
    "state0 = torch.zeros(solver.dynamics.dim) + 0.2\n",
    "mass_ref = torch.zeros(traj_len, 1)\n",
    "momentum_ref = torch.zeros(traj_len, 1)\n",
    "\n",
    "\n",
    "for i in range(traj_len):\n",
    "  if i > traj_len / 2:\n",
    "    mass_ref[i, :] = 3.16\n",
    "    momentum_ref[i, :] = 1.58\n",
    "  else:\n",
    "    mass_ref[i, :] = mass_func(state0.unsqueeze(0))\n",
    "    momentum_ref[i, :] = momentum_func(state0.unsqueeze(0))\n",
    "\n",
    "\n",
    "# mass_solver = pkdl.KoopmanMPCSolver(solver.dynamics, K, solver.dictionary, mass_ref, time_horizon, 1, lambda_param)\n",
    "# mass_controls, mass_traj = mass_solver.solve(state0, -1, 1)\n",
    "\n",
    "momentum_solver = pkdl.KoopmanMPCSolver(solver.dynamics, K, solver.dictionary, momentum_ref, time_horizon, 2, lambda_param)\n",
    "momentum_controls, momentum_state_traj = momentum_solver.solve(state0, -1, 1)\n"
   ]
  },
  {
   "cell_type": "code",
   "execution_count": 4,
   "metadata": {},
   "outputs": [
    {
     "name": "stderr",
     "output_type": "stream",
     "text": [
      "/tmp/ipykernel_1950962/3709981061.py:13: UserWarning: No artists with labels found to put in legend.  Note that artists whose label start with an underscore are ignored when legend() is called with no argument.\n",
      "  ax1.legend(loc='best',prop={'size':14})\n"
     ]
    },
    {
     "data": {
      "text/plain": [
       "<matplotlib.legend.Legend at 0x7ff948224260>"
      ]
     },
     "execution_count": 4,
     "metadata": {},
     "output_type": "execute_result"
    },
    {
     "data": {
      "image/png": "[encoded data removed]",
      "text/plain": [
       "<Figure size 1200x500 with 2 Axes>"
      ]
     },
     "metadata": {},
     "output_type": "display_data"
    }
   ],
   "source": [
    "\n",
    "momentum_traj = koopman_dynamics.traj(solver.dictionary(state0.unsqueeze(0)), momentum_controls.to(torch.float32), solver.traj_len)\n",
    "t_grid = np.arange(0, traj_len)\n",
    "\n",
    "fig, (ax1, ax2) = plt.subplots(1, 2, sharey=False, figsize=(12,5))  \n",
    "# ax1.plot(t_grid, mass_ref[:,0], 'k-', label='Exact', markevery=2)\n",
    "# ax1.plot(t_grid, mass_traj[:,1], 'gs', label='ParamKoopman', markevery=2)\n",
    "\n",
    "ax2.plot(t_grid, momentum_ref.detach().numpy()[:,0], 'k-', label='Exact', markevery=2)\n",
    "ax2.plot(t_grid, momentum_traj.detach().numpy()[0,:,2], 'gs', label='ParamKoopman', markevery=2)\n",
    "\n",
    "ax1.set_xlabel(r\"$n$\")\n",
    "ax1.set_ylabel(r\"$x_{1}(n)$\")\n",
    "ax1.legend(loc='best',prop={'size':14})\n",
    "\n",
    "ax2.set_xlabel(r\"$n$\")\n",
    "ax2.set_ylabel(r\"$x_{2}(n)$\")\n",
    "ax2.legend(loc='best',prop={'size':14})"
   ]
  }
 ],
 "metadata": {
  "kernelspec": {
   "display_name": "koopman",
   "language": "python",
   "name": "python3"
  },
  "language_info": {
   "codemirror_mode": {
    "name": "ipython",
    "version": 3
   },
   "file_extension": ".py",
   "mimetype": "text/x-python",
   "name": "python",
   "nbconvert_exporter": "python",
   "pygments_lexer": "ipython3",
   "version": "3.12.7"
  }
 },
 "nbformat": 4,
 "nbformat_minor": 2
}
