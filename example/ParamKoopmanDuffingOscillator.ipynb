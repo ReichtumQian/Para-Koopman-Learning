{
 "cells": [
  {
   "cell_type": "markdown",
   "metadata": {},
   "source": [
    "# Parametric Koopman Learning Tests on Duffing Oscillator"
   ]
  },
  {
   "cell_type": "code",
   "execution_count": null,
   "metadata": {},
   "outputs": [
    {
     "name": "stdout",
     "output_type": "stream",
     "text": [
      "CUDA is available. GPU is being used.\n"
     ]
    },
    {
     "name": "stderr",
     "output_type": "stream",
     "text": [
      "Training:   0%|          | 0/30 [00:00<?, ?it/s]"
     ]
    },
    {
     "name": "stdout",
     "output_type": "stream",
     "text": [
      "5\n",
      "torch.Size([5, 625])\n",
      "torch.Size([5, 25, 25])\n",
      "torch.Size([5, 25])\n"
     ]
    }
   ],
   "source": [
    "\n",
    "import sys\n",
    "sys.path.append('..')\n",
    "import PKoopmanDL as pkdl\n",
    "import numpy as np\n",
    "import matplotlib.pyplot as plt\n",
    "import torch\n",
    "\n",
    "# Define ODE\n",
    "ode = pkdl.DuffingOscillator()\n",
    "\n",
    "# Define flow map\n",
    "dt = 1e-3\n",
    "t_step = 0.25\n",
    "flowmap = pkdl.ForwardEuler(t_step, dt)\n",
    "\n",
    "# Generate data set\n",
    "n_traj = 5\n",
    "traj_len = 10\n",
    "x_min = -1\n",
    "x_max = 1\n",
    "param_min = -1\n",
    "param_max = 1\n",
    "dataset = pkdl.ParamODEDataSet(ode, flowmap)\n",
    "dataset.generate_data(n_traj, traj_len, x_min, x_max, param_min, param_max)\n",
    "\n",
    "# build dictionary\n",
    "dim_output = 25\n",
    "dim_nontrain = 3\n",
    "hidden_layer_sizes = [100, 100, 100]\n",
    "nontrain_func = lambda x: torch.cat([torch.ones((x.size(0), 1)).to(x.device), x], dim=1)\n",
    "dictionary_network = pkdl.FullConnResNet(ode.dim, dim_output - dim_nontrain, hidden_layer_sizes)\n",
    "dictionary = pkdl.TrainableDictionary(dictionary_network, nontrain_func, ode.dim, dim_output, dim_nontrain)\n",
    "\n",
    "# build solver\n",
    "n_epochs = 30\n",
    "batch_size = 5\n",
    "reg = 0.1\n",
    "reg_final = 0.01\n",
    "tol = 1e-6\n",
    "lr = 1e-4\n",
    "koopman_network = pkdl.FullConnResNet(ode.param_dim, dim_output**2, hidden_layer_sizes)\n",
    "PK = pkdl.ParamKoopman(dim_output, koopman_network)\n",
    "solver = pkdl.ParamKoopmanDLSolver(dictionary)\n",
    "PK = solver.solve(dataset, PK, n_epochs, batch_size, tol, lr, lr)"
   ]
  }
 ],
 "metadata": {
  "kernelspec": {
   "display_name": "mykoopman",
   "language": "python",
   "name": "python3"
  },
  "language_info": {
   "codemirror_mode": {
    "name": "ipython",
    "version": 3
   },
   "file_extension": ".py",
   "mimetype": "text/x-python",
   "name": "python",
   "nbconvert_exporter": "python",
   "pygments_lexer": "ipython3",
   "version": "3.8.19"
  }
 },
 "nbformat": 4,
 "nbformat_minor": 2
}
