{
 "cells": [
  {
   "cell_type": "code",
   "execution_count": null,
   "metadata": {},
   "outputs": [],
   "source": [
    "import PKoopmanDL as pkdl\n",
    "import numpy as np\n",
    "import matplotlib.pyplot as plt\n",
    "import torch\n",
    "\n",
    "# read the config file\n",
    "config_file = \"kdv.json\"\n",
    "solver = pkdl.ParamKoopmanDLSolverWrapper(config_file)\n",
    "\n",
    "# set up the grid\n",
    "Nx = 128\n",
    "x_max = torch.pi\n",
    "x_min = -torch.pi\n",
    "x_step = (x_max - x_min) / (Nx - 1)\n",
    "x_grid = torch.linspace(x_min, x_max, Nx).unsqueeze(0)\n",
    "\n",
    "def sample_func(row_size, col_size):\n",
    "  assert (col_size == Nx)\n",
    "  x = x_grid.expand(row_size, Nx)\n",
    "  # torch.manual_seed(0)\n",
    "  uniform = torch.tensor([1.0, 1.0, 1.0])\n",
    "  b = torch.distributions.Dirichlet(uniform).sample((row_size,))\n",
    "  b1 = b[:, 0].view(-1, 1)\n",
    "  b2 = b[:, 1].view(-1, 1)\n",
    "  b3 = b[:, 2].view(-1, 1)\n",
    "  eta = b1 * torch.exp(-(x - torch.pi / 2)**2) - b2 * torch.sin(\n",
    "      x / 2)**2 + b3 * torch.exp(-(x + torch.pi / 2)**2)\n",
    "  return eta\n",
    "\n",
    "def nontrain_func(x):\n",
    "  one = torch.ones((x.shape[0], 1))\n",
    "  mass = torch.sum(x, dim=1, keepdim=True) * x_step\n",
    "  momentum = torch.sum(x **2, dim=1, keepdim=True) * x_step\n",
    "  return torch.cat((one, mass, momentum), dim=1)\n",
    "  \n",
    "\n",
    "# set up the solver\n",
    "solver.load_dataset_setup(\"data/kdv_dataset.pt\", nontrain_func, sample_func)\n",
    "K = solver.solve()"
   ]
  },
  {
   "cell_type": "markdown",
   "metadata": {},
   "source": [
    "## Solve the Tracking Problem"
   ]
  },
  {
   "cell_type": "code",
   "execution_count": null,
   "metadata": {},
   "outputs": [],
   "source": [
    "n_traj = solver.n_traj\n",
    "t_step = solver.t_step\n",
    "target_dim = 2\n",
    "time_horizon = 10\n",
    "lambda_param = 0\n",
    "\n",
    "soln_ref = torch.zeros(n_traj, target_dim) + 0.3\n",
    "state0 = solver.train_dataset.dataset.data_x[0]\n",
    "\n",
    "for i in range(soln_ref.size(0)):\n",
    "  if i > n_traj / 2:\n",
    "    soln_ref[i, :] = 0.5\n",
    "\n",
    "mass_ref = x_step * torch.sum(soln_ref, dim=-1, keepdim=True)\n",
    "momentum_ref = x_step * torch.sum(soln_ref**2, dim=-1, keepdim=True)\n",
    "\n",
    "mass_solver = pkdl.KoopmanMPCSolver(solver.dynamics, K, solver.dictionary, mass_ref, time_horizon, 1, lambda_param)\n",
    "mass_solver.solve(state0, -1, 1)\n",
    "\n",
    "\n"
   ]
  }
 ],
 "metadata": {
  "kernelspec": {
   "display_name": "koopman",
   "language": "python",
   "name": "python3"
  },
  "language_info": {
   "codemirror_mode": {
    "name": "ipython",
    "version": 3
   },
   "file_extension": ".py",
   "mimetype": "text/x-python",
   "name": "python",
   "nbconvert_exporter": "python",
   "pygments_lexer": "ipython3",
   "version": "3.12.7"
  }
 },
 "nbformat": 4,
 "nbformat_minor": 2
}
