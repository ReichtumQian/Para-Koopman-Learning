{
 "cells": [
  {
   "cell_type": "code",
   "execution_count": 1,
   "metadata": {},
   "outputs": [
    {
     "name": "stderr",
     "output_type": "stream",
     "text": [
      "2024-11-11 14:49:14,630 PKoopmanDL: [INFO] CUDA is available. GPU is being used.\n",
      "2024-11-11 14:49:14,834 PKoopmanDL: [INFO] [ParamKoopmanDLSolver] Solving...\n",
      "Training: 100%|██████████| 20/20 [00:12<00:00,  1.59it/s, train_loss=2.32e-01, val_loss=2.28e-01]\n"
     ]
    }
   ],
   "source": [
    "import PKoopmanDL as pkdl\n",
    "import numpy as np\n",
    "import matplotlib.pyplot as plt\n",
    "import torch\n",
    "\n",
    "# read the config file\n",
    "config_file = \"kdv.json\"\n",
    "solver = pkdl.ParamKoopmanDLSolverWrapper(config_file)\n",
    "\n",
    "# set up the grid\n",
    "Nx = 128\n",
    "x_max = torch.pi\n",
    "x_min = -torch.pi\n",
    "x_step = (x_max - x_min) / (Nx - 1)\n",
    "x_grid = torch.linspace(x_min, x_max, Nx).unsqueeze(0)\n",
    "\n",
    "def sample_func(row_size, col_size):\n",
    "  assert (col_size == Nx)\n",
    "  x = x_grid.expand(row_size, Nx)\n",
    "  # torch.manual_seed(0)\n",
    "  uniform = torch.tensor([1.0, 1.0, 1.0])\n",
    "  b = torch.distributions.Dirichlet(uniform).sample((row_size,))\n",
    "  b1 = b[:, 0].view(-1, 1)\n",
    "  b2 = b[:, 1].view(-1, 1)\n",
    "  b3 = b[:, 2].view(-1, 1)\n",
    "  eta = b1 * torch.exp(-(x - torch.pi / 2)**2) - b2 * torch.sin(\n",
    "      x / 2)**2 + b3 * torch.exp(-(x + torch.pi / 2)**2)\n",
    "  return eta\n",
    "\n",
    "def nontrain_func(x):\n",
    "  one = torch.ones((x.shape[0], 1))\n",
    "  mass = torch.sum(x, dim=1, keepdim=True) * x_step\n",
    "  momentum = torch.sum(x **2, dim=1, keepdim=True) * x_step\n",
    "  return torch.cat((one, mass, momentum), dim=1)\n",
    "  \n",
    "\n",
    "# set up the solver\n",
    "solver.load_dataset_setup(\"data/kdv_dataset.pt\", nontrain_func, sample_func)\n",
    "K = solver.solve()"
   ]
  }
 ],
 "metadata": {
  "kernelspec": {
   "display_name": "koopman",
   "language": "python",
   "name": "python3"
  },
  "language_info": {
   "codemirror_mode": {
    "name": "ipython",
    "version": 3
   },
   "file_extension": ".py",
   "mimetype": "text/x-python",
   "name": "python",
   "nbconvert_exporter": "python",
   "pygments_lexer": "ipython3",
   "version": "3.12.7"
  }
 },
 "nbformat": 4,
 "nbformat_minor": 2
}
