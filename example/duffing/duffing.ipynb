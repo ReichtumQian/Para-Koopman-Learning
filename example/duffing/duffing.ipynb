{
 "cells": [
  {
   "cell_type": "code",
   "execution_count": 3,
   "metadata": {},
   "outputs": [],
   "source": [
    "import PKoopmanDL as pkdl\n",
    "import numpy as np\n",
    "import matplotlib.pyplot as plt\n",
    "import torch\n",
    "\n",
    "nontrain_func = lambda x: torch.cat([torch.ones((x.shape[0], 1)), x], dim=1)\n",
    "\n",
    "config_file = \"paramkoopman100-100.json\"\n",
    "param_solver1 = pkdl.SolverWrapper(nontrain_func, config_file)\n",
    "param_K1 = param_solver1.solve()\n",
    "\n",
    "config_file = \"EDMD-RBF.json\"\n",
    "edmd_solver1 = pkdl.SolverWrapper(nontrain_func, config_file)\n",
    "edmd_K1 = edmd_solver1.solve()\n",
    "\n",
    "# config_file = \"paramkoopman500-20.json\"\n",
    "# param_solver2 = pkdl.SolverWrapper(nontrain_func, config_file)\n",
    "# param_K2 = param_solver2.solve()\n",
    "\n",
    "# config_file = \"paramkoopman100-10.json\"\n",
    "# param_solver3 = pkdl.SolverWrapper(nontrain_func, config_file)\n",
    "# param_K3 = param_solver3.solve()"
   ]
  },
  {
   "cell_type": "markdown",
   "metadata": {},
   "source": [
    "## Plot"
   ]
  },
  {
   "cell_type": "code",
   "execution_count": null,
   "metadata": {},
   "outputs": [],
   "source": [
    "param = torch.tensor([[0.5, -1.0, 1.0]]).detach()\n",
    "ode = param_solver1.ode\n",
    "flowmap = param_solver1.flowmap\n",
    "x_min = param_solver1.x_min\n",
    "x_max = param_solver1.x_max\n",
    "traj_len = param_solver1.traj_len\n",
    "dim_nontrain = param_solver1.dim_nontrain\n",
    "\n",
    "\n",
    "dataset_predict = pkdl.ODEDataSet(ode, flowmap)\n",
    "dataset_predict.generate_data(1, traj_len, x_min, x_max, param)\n",
    "x_traj = dataset_predict.data_x\n",
    "x0 = torch.unsqueeze(dataset_predict.data_x[0], dim=0)\n",
    "param_p1 = param_K1.predict(param, x0, param_solver1.dictionary, dim_nontrain, traj_len).detach()\n",
    "param_x_est_traj1 = param_p1[0, :, :]\n",
    "edmd_p1 = edmd_K1.predict(x0, edmd_solver1.dictionary, dim_nontrain, traj_len).detach()\n",
    "edmd_x_est_traj1 = edmd_p1[0, :, :]\n",
    "\n",
    "plt.plot(x_traj[:, 0], x_traj[:, 1], linestyle='-', color='b', label='Exact')\n",
    "plt.plot(param_x_est_traj1[:, 1], param_x_est_traj1[:, 2], linestyle='-', color='orange', label='1000-10')\n",
    "plt.plot(edmd_x_est_traj1[:, 1], edmd_x_est_traj1[:, 2], linestyle='-', color='yellow', label='edmd')\n",
    "\n",
    "\n",
    "plt.title('Trajectory')\n",
    "plt.xlabel('x1')\n",
    "plt.ylabel('x2')\n",
    "plt.legend()\n",
    "plt.show()"
   ]
  }
 ],
 "metadata": {
  "kernelspec": {
   "display_name": "mykoopman",
   "language": "python",
   "name": "python3"
  },
  "language_info": {
   "codemirror_mode": {
    "name": "ipython",
    "version": 3
   },
   "file_extension": ".py",
   "mimetype": "text/x-python",
   "name": "python",
   "nbconvert_exporter": "python",
   "pygments_lexer": "ipython3",
   "version": "3.8.19"
  }
 },
 "nbformat": 4,
 "nbformat_minor": 4
}
